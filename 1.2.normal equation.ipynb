{
 "cells": [
  {
   "cell_type": "markdown",
   "metadata": {},
   "source": [
    "# Lineaire Regressie in Python\n",
    "## 1.2 Normal Equation"
   ]
  },
  {
   "cell_type": "code",
   "execution_count": 1,
   "metadata": {
    "collapsed": true
   },
   "outputs": [],
   "source": [
    "import pandas as pd\n",
    "wijnen = pd.read_csv('winequality-red.csv', delimiter=';')"
   ]
  },
  {
   "cell_type": "code",
   "execution_count": 2,
   "metadata": {},
   "outputs": [
    {
     "data": {
      "text/plain": [
       "Index(['fixed acidity', 'volatile acidity', 'citric acid', 'residual sugar',\n",
       "       'chlorides', 'free sulfur dioxide', 'total sulfur dioxide', 'density',\n",
       "       'pH', 'sulphates', 'alcohol', 'quality'],\n",
       "      dtype='object')"
      ]
     },
     "execution_count": 2,
     "metadata": {},
     "output_type": "execute_result"
    }
   ],
   "source": [
    "wijnen.columns"
   ]
  },
  {
   "cell_type": "markdown",
   "metadata": {},
   "source": [
    "#### Lineaire Regressie en de Normal Equation\n",
    "\n",
    "Recap: om lineaire regressie toe te passen proberen we een functie te fitten, waarbij $\\widehat{y}$ de geschatte waarde voor de te verklaren variabele is (ook wel de afhankelijke variabele of target variabele genoemd), $x$ de verklarende variabele en $\\theta$ de coefficienten van de gefitte lijn:\n",
    "\n",
    "$$ \n",
    "\\widehat{y} = \\theta_1 * x + \\theta_0\n",
    "$$\n",
    "\n",
    "Meest standaard is om voor het bepalen van de coefficienten een least squares kostenfunctie $J$ te minimaliseren, waarbij $y$ de te verklaren variabele is. In deze notatie gebruiken we $^{(i)}$ met ronde haakjes om een trainingspaar $(x^{(i)}, y^{(i)})$ aan te kunnen duiden, oftewel de $i$-de customer in de set met trainings data:\n",
    "\n",
    "$$ J(\\theta) = \\sum_i (\\widehat{y^{(i)}} - y^{(i)})^2  = \\sum_i \\theta_1 * x^{(i)} + \\theta_0 - y^{(i)} $$\n",
    "\n",
    "Het gebruikelijk/makkelijker om de formules te herschrijven in vector notatie. Daarvoor wordt aan de input vector $x$ een waarde $x_0$ toe te voegen met de constante waarde 1, we noemen dat ook wel een bias. $\\theta$ bevat beide coefficienten, zodat het product $\\theta^Tx = \\theta_0 + \\theta_1 * x_1$:\n",
    "\n",
    "$$ x = \\left[ \\begin{matrix} x_0 \\\\ x_1 \\end{matrix} \\right], \\theta = \\left[ \\begin{matrix} \\theta_0 \\\\ \\theta_1 \\end{matrix} \\right]$$\n",
    "\n",
    "zodat de oorsponkelijke formules voor $\\widehat{y}$ en $J(\\theta)$ kunnen dan worden herschreven als:\n",
    "\n",
    "$$ \\widehat{y} = \\theta_1 * x + \\theta_0  = \\theta^T \\cdot x $$\n",
    "\n",
    "$$ J(\\theta) = \\sum_i \\theta_1 * x^{(i)} + \\theta_0 - y^{(i)} = \\sum_i \\theta^T \\cdot x_i - y^{(i)} $$\n",
    "\n",
    "\n",
    "Voor een makkelijker implementatie kunnen we het sommatie symbool vervangen door een matrix vermenervuldiging. We stellen daarvoor een matrix $X$ samen met de input samples $x^{(i)^T}$ als rowvectors. De kostenfunctie kan dan worden herschreven als:\n",
    "\n",
    "$$ J(\\theta) = \\sum_i \\theta^T \\cdot x_i - y^{(i)} = (X \\cdot \\theta - y)^T \\cdot (X \\cdot \\theta - y) $$ \n",
    "\n",
    "Een van de manieren om de coefficienten van de functie $\\theta$ te leren is door de afgeleide van de kostenfunctie gelijk te stellen aan 0 (ook wel de Normal Equation genoemd):\n",
    "\n",
    "$$ \\frac{\\delta J(\\theta)}{\\delta \\theta} = 2X^TX\\theta - X^Ty = 0 $$\n",
    "\n",
    "$$ \\theta = (X^TX)^{-1} \\cdot X^Ty $$"
   ]
  },
  {
   "cell_type": "markdown",
   "metadata": {},
   "source": [
    "#### Voorbeeld regressie\n",
    "\n",
    "We gaan een regressielijn fitten die `quality` verklaart vanuit het percentage `alcohol`. Laten we eerst kijken hoe de data eruit ziet."
   ]
  },
  {
   "cell_type": "code",
   "execution_count": 3,
   "metadata": {},
   "outputs": [
    {
     "data": {
      "text/plain": [
       "count    1599.000000\n",
       "mean        5.636023\n",
       "std         0.807569\n",
       "min         3.000000\n",
       "25%         5.000000\n",
       "50%         6.000000\n",
       "75%         6.000000\n",
       "max         8.000000\n",
       "Name: quality, dtype: float64"
      ]
     },
     "execution_count": 3,
     "metadata": {},
     "output_type": "execute_result"
    }
   ],
   "source": [
    "wijnen.quality.describe()"
   ]
  },
  {
   "cell_type": "code",
   "execution_count": 4,
   "metadata": {},
   "outputs": [
    {
     "data": {
      "text/plain": [
       "Index(['fixed acidity', 'volatile acidity', 'citric acid', 'residual sugar',\n",
       "       'chlorides', 'free sulfur dioxide', 'total sulfur dioxide', 'density',\n",
       "       'pH', 'sulphates', 'alcohol', 'quality'],\n",
       "      dtype='object')"
      ]
     },
     "execution_count": 4,
     "metadata": {},
     "output_type": "execute_result"
    }
   ],
   "source": [
    "wijnen.columns"
   ]
  },
  {
   "cell_type": "code",
   "execution_count": 5,
   "metadata": {},
   "outputs": [
    {
     "data": {
      "text/plain": [
       "count    1599.000000\n",
       "mean       10.422983\n",
       "std         1.065668\n",
       "min         8.400000\n",
       "25%         9.500000\n",
       "50%        10.200000\n",
       "75%        11.100000\n",
       "max        14.900000\n",
       "Name: alcohol, dtype: float64"
      ]
     },
     "execution_count": 5,
     "metadata": {},
     "output_type": "execute_result"
    }
   ],
   "source": [
    "wijnen.alcohol.describe()"
   ]
  },
  {
   "cell_type": "markdown",
   "metadata": {},
   "source": [
    "#### Data punten tonen in een Scatter Plot\n",
    "\n",
    "We kunnen nu met Pandas eenvoudig de datapunten op een X en Y as afbeelden. Omdat quality alleen hele getallen kan aannemen, worden er veel punten over elkaar gezet. Door aan `plot.scatter` de parameter `s=1` mee te geven worden de punten kleiner en kunnen we iets beter zien hoe de data eruit ziet. "
   ]
  },
  {
   "cell_type": "code",
   "execution_count": 6,
   "metadata": {},
   "outputs": [
    {
     "data": {
      "text/plain": [
       "<matplotlib.axes._subplots.AxesSubplot at 0x7fbe7f2f5748>"
      ]
     },
     "execution_count": 6,
     "metadata": {},
     "output_type": "execute_result"
    },
    {
     "data": {
      "image/png": "[encoded data removed]",
      "text/plain": [
       "<matplotlib.figure.Figure at 0x7fbe7f352fd0>"
      ]
     },
     "metadata": {},
     "output_type": "display_data"
    }
   ],
   "source": [
    "%matplotlib inline\n",
    "wijnen.plot.scatter(x='alcohol', y='quality', s=1)"
   ]
  },
  {
   "cell_type": "markdown",
   "metadata": {},
   "source": [
    "In de scatterplot zien we een zwakke correlatie tussen alcohol en quality, namelijk dat hogere alcohol percentages samen gaan met betere kwaliteit. Op basis van de visualisatie verwachten we dat alcohol alleen maar een matige voorspeller oplevert, maar wel met een positieve bijdrage."
   ]
  },
  {
   "cell_type": "markdown",
   "metadata": {},
   "source": [
    "We gaan nu de data prepareren, we willen een trainings matrix $X$ samenstellen met een bias $x_0 = 1$ en $x_1$ die het alcohol percentage bevat. Eerst voegen we aan het Dataframe een bias kolom toe."
   ]
  },
  {
   "cell_type": "code",
   "execution_count": 7,
   "metadata": {
    "collapsed": true
   },
   "outputs": [],
   "source": [
    "wijnen['bias'] = 1"
   ]
  },
  {
   "cell_type": "markdown",
   "metadata": {},
   "source": [
    "Voor matrix berekeningen maken we gebruik van de Python library **numpy**. Numpy maakt het eenvoudig om transposes en inverses te maken. We kunnen met de methode `as_matrix` een DataFrame van Pandas omzetten naar een numpy matrix."
   ]
  },
  {
   "cell_type": "code",
   "execution_count": 8,
   "metadata": {},
   "outputs": [
    {
     "data": {
      "text/plain": [
       "array([[  1. ,   9.4],\n",
       "       [  1. ,   9.8],\n",
       "       [  1. ,   9.8],\n",
       "       ..., \n",
       "       [  1. ,  11. ],\n",
       "       [  1. ,  10.2],\n",
       "       [  1. ,  11. ]])"
      ]
     },
     "execution_count": 8,
     "metadata": {},
     "output_type": "execute_result"
    }
   ],
   "source": [
    "X = wijnen[['bias', 'alcohol']].as_matrix()\n",
    "X"
   ]
  },
  {
   "cell_type": "code",
   "execution_count": 9,
   "metadata": {},
   "outputs": [
    {
     "data": {
      "text/plain": [
       "array([5, 5, 5, ..., 6, 5, 6])"
      ]
     },
     "execution_count": 9,
     "metadata": {},
     "output_type": "execute_result"
    }
   ],
   "source": [
    "y = wijnen.quality.as_matrix()\n",
    "y"
   ]
  },
  {
   "cell_type": "markdown",
   "metadata": {},
   "source": [
    "$$ \\theta = (X^TX)^{-1} \\cdot X^TY $$"
   ]
  },
  {
   "cell_type": "markdown",
   "metadata": {},
   "source": [
    "We kunnen dan vrij eenvoudig met de Normal Equation de coefficienten van een lineaire regressielijn fitten die geminimaliseerd is naar kleinste kwadraten. Een korte toelichting bij onderstaande code:\n",
    "\n",
    "- `X.T`: de transpose van $X$\n",
    "- `np.dot`: dot product tussen twee matrices\n",
    "- `np.linalg.pinv()`: de pseudo-inverse van een matrix. De inverse van een matrix is niet altijd te bepalen (determinant=0) en levert niet altijd numeriek stabiele resultaten op. Daarom wordt de inverse vaak vervangen door de pseudo-inverse van een matrix te berekenen omdat deze betrouwbaarder om te gebruiken."
   ]
  },
  {
   "cell_type": "code",
   "execution_count": 10,
   "metadata": {
    "collapsed": true
   },
   "outputs": [],
   "source": [
    "import numpy as np\n",
    "XtX = np.dot(X.T, X)\n",
    "XtX_inv = np.linalg.pinv(XtX)\n",
    "Xty = np.dot(X.T, y)\n",
    "theta = np.dot(XtX_inv, Xty)"
   ]
  },
  {
   "cell_type": "markdown",
   "metadata": {},
   "source": [
    "$\\theta$ bevat dan de coefficienten van de regressielijn $\\widehat{y} = \\theta_1 \\cdot x + \\theta_0$. Met andere woorden, $\\theta_0$ is het snijpunt met de y-as en $\\theta_1$ de richtingscoefficient."
   ]
  },
  {
   "cell_type": "code",
   "execution_count": 11,
   "metadata": {},
   "outputs": [
    {
     "data": {
      "text/plain": [
       "array([ 1.87497489,  0.36084177])"
      ]
     },
     "execution_count": 11,
     "metadata": {},
     "output_type": "execute_result"
    }
   ],
   "source": [
    "theta"
   ]
  },
  {
   "cell_type": "markdown",
   "metadata": {},
   "source": [
    "We kunnen het resultaat visualiseren met de library Matplotlib:"
   ]
  },
  {
   "cell_type": "code",
   "execution_count": 12,
   "metadata": {},
   "outputs": [
    {
     "data": {
      "text/plain": [
       "[<matplotlib.lines.Line2D at 0x7fbe7f22e7f0>]"
      ]
     },
     "execution_count": 12,
     "metadata": {},
     "output_type": "execute_result"
    },
    {
     "data": {
      "image/png": "[encoded data removed]",
      "text/plain": [
       "<matplotlib.figure.Figure at 0x7fbe7f22e828>"
      ]
     },
     "metadata": {},
     "output_type": "display_data"
    }
   ],
   "source": [
    "import matplotlib.pyplot as plt\n",
    "plt.plot(wijnen.alcohol, wijnen.quality, '.')\n",
    "line_x=np.array([8,15])\n",
    "line_y=line_x * theta[1] + theta[0]\n",
    "plt.plot(line_x, line_y, '-')"
   ]
  },
  {
   "cell_type": "markdown",
   "metadata": {},
   "source": [
    "Visueel ziet het resultaat er misschien niet uit als een optimale fit, maar zoals we hieronder laten zien komt dat door de scheven verdeling in `quality`; het overgrote deel van de wijnen scoort een 5 of een 6. "
   ]
  },
  {
   "cell_type": "code",
   "execution_count": 13,
   "metadata": {},
   "outputs": [
    {
     "data": {
      "text/plain": [
       "5    681\n",
       "6    638\n",
       "7    199\n",
       "4     53\n",
       "8     18\n",
       "3     10\n",
       "Name: quality, dtype: int64"
      ]
     },
     "execution_count": 13,
     "metadata": {},
     "output_type": "execute_result"
    }
   ],
   "source": [
    "wijnen.quality.value_counts()"
   ]
  }
 ],
 "metadata": {
  "kernelspec": {
   "display_name": "Python 3",
   "language": "python",
   "name": "python3"
  },
  "language_info": {
   "codemirror_mode": {
    "name": "ipython",
    "version": 3
   },
   "file_extension": ".py",
   "mimetype": "text/x-python",
   "name": "python",
   "nbconvert_exporter": "python",
   "pygments_lexer": "ipython3",
   "version": "3.6.1"
  }
 },
 "nbformat": 4,
 "nbformat_minor": 2
}
