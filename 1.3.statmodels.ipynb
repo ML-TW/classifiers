{
 "cells": [
  {
   "cell_type": "markdown",
   "metadata": {},
   "source": [
    "# Lineaire Regressie in Python\n",
    "## 1.3 Statmodels library"
   ]
  },
  {
   "cell_type": "markdown",
   "metadata": {},
   "source": [
    "Voor Python bestaat een enorm aanbod aan open source libraries met voorgeprogrammeerde functies. De meeste libaries zijn uitvoerig getest en optimaal geprogrammeerd (qua efficiency) in bv Fortran, C++, matlab or R. Steeds meer data scientists kiezen ervoor om deze libraries vanuit Python te gebruiken omdat de taal kort, laagdrempelig en goed leesbaar is.\n",
    "\n",
    "Een van de libraries is statmodels, die bevat al een functie om een lineaire regressielijn te fitten. Hier laten we zien hoe je die kunt gebruiken.\n",
    "\n",
    "We laden wederom de data en stellen een input matrix $X$ samen met een bias $x_0 = 1$ en een vector met correcte uitkomsten $y$"
   ]
  },
  {
   "cell_type": "code",
   "execution_count": 1,
   "metadata": {
    "collapsed": true
   },
   "outputs": [],
   "source": [
    "import pandas as pd\n",
    "wijnen = pd.read_csv('winequality-red.csv', delimiter=';')\n",
    "\n",
    "wijnen['bias'] = 1\n",
    "X = wijnen[['bias', 'alcohol']].as_matrix()\n",
    "y = wijnen.quality.as_matrix()"
   ]
  },
  {
   "cell_type": "markdown",
   "metadata": {},
   "source": [
    "Vervolgens kunnen we statsmodels importeren en een OLS model (Ordinary Least Squares) fitten. De model.params geeft ons de coefficienten:\n",
    "\n",
    "- params[0]: het snijpunt met de y-as (in onze Normal Equation aanpak $\\theta_0$)\n",
    "- params[1]: de richttingscoefficient (in onze Normal Equation aanpak $\\theta_1$)"
   ]
  },
  {
   "cell_type": "code",
   "execution_count": 2,
   "metadata": {},
   "outputs": [
    {
     "name": "stderr",
     "output_type": "stream",
     "text": [
      "/opt/jupyterhub/anaconda/lib/python3.6/site-packages/statsmodels/compat/pandas.py:56: FutureWarning: The pandas.core.datetools module is deprecated and will be removed in a future version. Please use the pandas.tseries module instead.\n",
      "  from pandas.core import datetools\n"
     ]
    },
    {
     "data": {
      "text/plain": [
       "array([ 1.87497489,  0.36084177])"
      ]
     },
     "execution_count": 2,
     "metadata": {},
     "output_type": "execute_result"
    }
   ],
   "source": [
    "import statsmodels.api as sm\n",
    "model = sm.OLS(y, X).fit()\n",
    "model.params"
   ]
  },
  {
   "cell_type": "markdown",
   "metadata": {},
   "source": [
    "We zien dat de coefficienten gelijk zijn aan die van de Normal Equation. Hieronder de code om het resultaat nogmaals te visualiseren. "
   ]
  },
  {
   "cell_type": "code",
   "execution_count": 3,
   "metadata": {},
   "outputs": [
    {
     "data": {
      "text/plain": [
       "[<matplotlib.lines.Line2D at 0x7fe6a6fc7c18>]"
      ]
     },
     "execution_count": 3,
     "metadata": {},
     "output_type": "execute_result"
    },
    {
     "data": {
      "image/png": "[encoded data removed]",
      "text/plain": [
       "<matplotlib.figure.Figure at 0x7fe6a6fc7b38>"
      ]
     },
     "metadata": {},
     "output_type": "display_data"
    }
   ],
   "source": [
    "import numpy as np\n",
    "import matplotlib.pyplot as plt\n",
    "%matplotlib inline\n",
    "plt.plot(wijnen.alcohol, wijnen.quality, '.')\n",
    "line_x=np.array([8,14])\n",
    "line_y=line_x * model.params[1] + model.params[0]\n",
    "plt.plot(line_x, line_y, '-')"
   ]
  }
 ],
 "metadata": {
  "kernelspec": {
   "display_name": "Python 3",
   "language": "python",
   "name": "python3"
  },
  "language_info": {
   "codemirror_mode": {
    "name": "ipython",
    "version": 3
   },
   "file_extension": ".py",
   "mimetype": "text/x-python",
   "name": "python",
   "nbconvert_exporter": "python",
   "pygments_lexer": "ipython3",
   "version": "3.6.1"
  }
 },
 "nbformat": 4,
 "nbformat_minor": 2
}
