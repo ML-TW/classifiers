{
 "cells": [
  {
   "cell_type": "markdown",
   "metadata": {},
   "source": [
    "# Lineaire Regressie in Python\n",
    "## 1.5 Gradient Descent met SKLearn"
   ]
  },
  {
   "cell_type": "markdown",
   "metadata": {},
   "source": [
    "Lineaire Regressie is een standaard probleem, waarvoor verschillende implementaties bestaan in Machine Learning libraries. Een van die libraries is SKLearn. Het gebruik van bestaande libraries heeft veel voordelen: de code is vaak uitvoerig getest, de algoritmes zijn bijzonder efficient en je kunt vaak met weinig regels code resultaat bereiken. Om met een nieuwe library te werken moet je alleen vaak wel uitzoeken hoe de data aangeleverd moet worden en hoe je het resultaat eruit kan halen.\n",
    "\n",
    "We lezen wederom de data in en bereiden de deze voor in de matrices $X$ en $y$. In dit geval heeft SKLearn al een aparte fit_intercept optie, waardoor we geen bias hoeven toe te voegen aan $X$."
   ]
  },
  {
   "cell_type": "code",
   "execution_count": 1,
   "metadata": {
    "collapsed": true
   },
   "outputs": [],
   "source": [
    "import pandas as pd\n",
    "wijnen = pd.read_csv('winequality-red.csv', delimiter=';')\n",
    "\n",
    "X = wijnen[['alcohol']].as_matrix()\n",
    "y = wijnen.quality.as_matrix()"
   ]
  },
  {
   "cell_type": "markdown",
   "metadata": {},
   "source": [
    "We importen het Lineare Regressie model van SKLearn, maken een model aan en fitten het op de data."
   ]
  },
  {
   "cell_type": "code",
   "execution_count": 2,
   "metadata": {},
   "outputs": [
    {
     "data": {
      "text/plain": [
       "LinearRegression(copy_X=True, fit_intercept=True, n_jobs=1, normalize=False)"
      ]
     },
     "execution_count": 2,
     "metadata": {},
     "output_type": "execute_result"
    }
   ],
   "source": [
    "from sklearn.linear_model import LinearRegression\n",
    "lr = LinearRegression()\n",
    "lr.fit(X, y)\n"
   ]
  },
  {
   "cell_type": "markdown",
   "metadata": {},
   "source": [
    "De coefficienten van de regressielijn kun je dan ophalen via deze code:"
   ]
  },
  {
   "cell_type": "code",
   "execution_count": 3,
   "metadata": {},
   "outputs": [
    {
     "data": {
      "text/plain": [
       "(1.8749748869971543, 0.36084176533503437)"
      ]
     },
     "execution_count": 3,
     "metadata": {},
     "output_type": "execute_result"
    }
   ],
   "source": [
    "(lr.intercept_, lr.coef_[0])"
   ]
  }
 ],
 "metadata": {
  "kernelspec": {
   "display_name": "Python 3",
   "language": "python",
   "name": "python3"
  },
  "language_info": {
   "codemirror_mode": {
    "name": "ipython",
    "version": 3
   },
   "file_extension": ".py",
   "mimetype": "text/x-python",
   "name": "python",
   "nbconvert_exporter": "python",
   "pygments_lexer": "ipython3",
   "version": "3.6.1"
  }
 },
 "nbformat": 4,
 "nbformat_minor": 2
}
